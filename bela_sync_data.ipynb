{
 "cells": [
  {
   "cell_type": "code",
   "execution_count": 215,
   "id": "9781233d",
   "metadata": {},
   "outputs": [],
   "source": [
    "import pandas as pd\n",
    "import numpy as np\n",
    "import matplotlib.pyplot as plt"
   ]
  },
  {
   "cell_type": "code",
   "execution_count": 216,
   "id": "3190d3b8",
   "metadata": {},
   "outputs": [
    {
     "data": {
      "text/html": [
       "<div>\n",
       "<style scoped>\n",
       "    .dataframe tbody tr th:only-of-type {\n",
       "        vertical-align: middle;\n",
       "    }\n",
       "\n",
       "    .dataframe tbody tr th {\n",
       "        vertical-align: top;\n",
       "    }\n",
       "\n",
       "    .dataframe thead th {\n",
       "        text-align: right;\n",
       "    }\n",
       "</style>\n",
       "<table border=\"1\" class=\"dataframe\">\n",
       "  <thead>\n",
       "    <tr style=\"text-align: right;\">\n",
       "      <th></th>\n",
       "      <th>sample</th>\n",
       "      <th>x1</th>\n",
       "      <th>x2</th>\n",
       "      <th>x3</th>\n",
       "      <th>x4</th>\n",
       "    </tr>\n",
       "  </thead>\n",
       "  <tbody>\n",
       "    <tr>\n",
       "      <th>0</th>\n",
       "      <td>0</td>\n",
       "      <td>0.010727</td>\n",
       "      <td>0.612457</td>\n",
       "      <td>0.285507</td>\n",
       "      <td>0.260330</td>\n",
       "    </tr>\n",
       "    <tr>\n",
       "      <th>1</th>\n",
       "      <td>1</td>\n",
       "      <td>0.010712</td>\n",
       "      <td>0.612350</td>\n",
       "      <td>0.285568</td>\n",
       "      <td>0.260437</td>\n",
       "    </tr>\n",
       "    <tr>\n",
       "      <th>2</th>\n",
       "      <td>2</td>\n",
       "      <td>0.010788</td>\n",
       "      <td>0.612350</td>\n",
       "      <td>0.285538</td>\n",
       "      <td>0.260376</td>\n",
       "    </tr>\n",
       "    <tr>\n",
       "      <th>3</th>\n",
       "      <td>3</td>\n",
       "      <td>0.010818</td>\n",
       "      <td>0.612381</td>\n",
       "      <td>0.285370</td>\n",
       "      <td>0.260239</td>\n",
       "    </tr>\n",
       "    <tr>\n",
       "      <th>4</th>\n",
       "      <td>4</td>\n",
       "      <td>0.010773</td>\n",
       "      <td>0.612411</td>\n",
       "      <td>0.285461</td>\n",
       "      <td>0.260223</td>\n",
       "    </tr>\n",
       "  </tbody>\n",
       "</table>\n",
       "</div>"
      ],
      "text/plain": [
       "   sample        x1        x2        x3        x4\n",
       "0       0  0.010727  0.612457  0.285507  0.260330\n",
       "1       1  0.010712  0.612350  0.285568  0.260437\n",
       "2       2  0.010788  0.612350  0.285538  0.260376\n",
       "3       3  0.010818  0.612381  0.285370  0.260239\n",
       "4       4  0.010773  0.612411  0.285461  0.260223"
      ]
     },
     "execution_count": 216,
     "metadata": {},
     "output_type": "execute_result"
    }
   ],
   "source": [
    "# Create a dtype with the binary data format and the desired column names\n",
    "dt = np.dtype([('sample', 'f4'),('x1', 'f4'), ('x2', 'f4'), ('x3', 'f4'), ('x4', 'f4')])\n",
    "dataRx = np.fromfile(\"data/rx/data2.log\", dtype=dt)\n",
    "dataTx = np.fromfile(\"data/tx/data2.log\", dtype=dt)\n",
    "\n",
    "dfRx = pd.DataFrame(dataRx)\n",
    "dfTx = pd.DataFrame(dataTx)\n",
    "\n",
    "#dfRx = pd.DataFrame(dataRx, columns=[\"sample\", \"rx1\", \"rx2\", \"rx3\", \"rx4\"])\n",
    "#dfTx = pd.DataFrame(dataTx, columns=[\"sample\", \"tx1\", \"tx2\", \"tx3\", \"tx4\"])\n",
    "\n",
    "dfRx[\"sample\"]=dfRx[\"sample\"].astype(int) # convert to int\n",
    "dfTx[\"sample\"]=dfTx[\"sample\"].astype(int) # convert to int\n",
    "\n",
    "\n",
    "dfTx.head()"
   ]
  },
  {
   "cell_type": "code",
   "execution_count": 217,
   "id": "aafd9e40",
   "metadata": {},
   "outputs": [
    {
     "data": {
      "text/html": [
       "<div>\n",
       "<style scoped>\n",
       "    .dataframe tbody tr th:only-of-type {\n",
       "        vertical-align: middle;\n",
       "    }\n",
       "\n",
       "    .dataframe tbody tr th {\n",
       "        vertical-align: top;\n",
       "    }\n",
       "\n",
       "    .dataframe thead th {\n",
       "        text-align: right;\n",
       "    }\n",
       "</style>\n",
       "<table border=\"1\" class=\"dataframe\">\n",
       "  <thead>\n",
       "    <tr style=\"text-align: right;\">\n",
       "      <th></th>\n",
       "      <th>sample</th>\n",
       "      <th>msg</th>\n",
       "    </tr>\n",
       "  </thead>\n",
       "  <tbody>\n",
       "    <tr>\n",
       "      <th>0</th>\n",
       "      <td>64780</td>\n",
       "      <td>0</td>\n",
       "    </tr>\n",
       "    <tr>\n",
       "      <th>1</th>\n",
       "      <td>70300</td>\n",
       "      <td>1</td>\n",
       "    </tr>\n",
       "    <tr>\n",
       "      <th>2</th>\n",
       "      <td>75820</td>\n",
       "      <td>2</td>\n",
       "    </tr>\n",
       "    <tr>\n",
       "      <th>3</th>\n",
       "      <td>81340</td>\n",
       "      <td>3</td>\n",
       "    </tr>\n",
       "    <tr>\n",
       "      <th>4</th>\n",
       "      <td>86860</td>\n",
       "      <td>4</td>\n",
       "    </tr>\n",
       "  </tbody>\n",
       "</table>\n",
       "</div>"
      ],
      "text/plain": [
       "   sample  msg\n",
       "0   64780    0\n",
       "1   70300    1\n",
       "2   75820    2\n",
       "3   81340    3\n",
       "4   86860    4"
      ]
     },
     "execution_count": 217,
     "metadata": {},
     "output_type": "execute_result"
    }
   ],
   "source": [
    "dt = np.dtype([('sample', 'f4'), ('msg', 'f4')])\n",
    "syncDataRx= np.fromfile('data/rx/sync2.log', dtype=dt)\n",
    "syncDataTx= np.fromfile('data/tx/sync2.log', dtype=dt)\n",
    "\n",
    "syncRx = pd.DataFrame(syncDataRx,columns=data.dtype.names).astype(int)\n",
    "syncTx = pd.DataFrame(syncDataTx,columns=data.dtype.names).astype(int)\n",
    "\n",
    "syncRx.head()\n"
   ]
  },
  {
   "cell_type": "code",
   "execution_count": 218,
   "id": "ee7b464a",
   "metadata": {},
   "outputs": [
    {
     "data": {
      "image/png": "[encoded data removed]",
      "text/plain": [
       "<Figure size 432x288 with 2 Axes>"
      ]
     },
     "metadata": {
      "needs_background": "light"
     },
     "output_type": "display_data"
    }
   ],
   "source": [
    "fig, ax = plt.subplots(2, 1)\n",
    "fig.tight_layout()\n",
    "\n",
    "\n",
    "dfRx.plot(x=\"sample\", y=[\"x1\", \"x2\"], ax=ax[0], sharex=ax[0])\n",
    "ax[0].set_title('RX')\n",
    "ax[0].set_xlim([0,max([*dfRx[\"sample\"],*dfTx[\"sample\"]])])\n",
    "ax[0].vlines(x=syncRx[\"sample\"], ymin=0, ymax=0.5, colors='red')\n",
    "\n",
    "dfTx.plot(x=\"sample\", y=[\"x1\", \"x2\"], ax=ax[1])\n",
    "ax[1].set_title('TX')\n",
    "ax[1].set_xlim([0,max([*dfRx[\"sample\"],*dfTx[\"sample\"]])])\n",
    "ax[1].vlines(x=syncTx[\"sample\"], ymin=0, ymax=0.5, colors='red')\n",
    "\n",
    "\n",
    "plt.show()\n"
   ]
  },
  {
   "cell_type": "code",
   "execution_count": 219,
   "id": "ba886e88",
   "metadata": {},
   "outputs": [
    {
     "name": "stdout",
     "output_type": "stream",
     "text": [
      "lost messages? \n",
      "[]\n",
      "equal number of messages sent as received?\n",
      "True\n"
     ]
    }
   ],
   "source": [
    "def check_if_lost_messages(df):\n",
    "    messages=df['msg'].tolist();\n",
    "    sample=df['sample'].tolist();\n",
    "\n",
    "    lost_messages_samples=[];\n",
    "    for i in range (1,len(messages)):\n",
    "        if messages[i] == 0:\n",
    "            continue\n",
    "        if messages[i] != messages[i-1]+1:\n",
    "            lost_messages_samples.append[samples[i]]\n",
    "\n",
    "    return lost_messages_samples\n",
    "\n",
    "# check if received messages don't follow order from 0 to 7\n",
    "# ie check if there's skipped messages\n",
    "print(\"lost messages? \")\n",
    "print(check_if_lost_messages(syncRx))\n",
    "\n",
    "print(\"equal number of messages sent as received?\")\n",
    "print(len(syncRx['msg'])==len(syncTx['msg']))"
   ]
  },
  {
   "cell_type": "code",
   "execution_count": 220,
   "id": "0dcbac75",
   "metadata": {},
   "outputs": [
    {
     "data": {
      "text/plain": [
       "59268"
      ]
     },
     "execution_count": 220,
     "metadata": {},
     "output_type": "execute_result"
    }
   ],
   "source": [
    "# first message received in rx is the same as first message transmitted\n",
    "diff = syncRx['sample'][0]-syncTx['sample'][0] # number of samples to take away from rx\n",
    "\n",
    "diff"
   ]
  },
  {
   "cell_type": "code",
   "execution_count": 224,
   "id": "f8bc8054",
   "metadata": {},
   "outputs": [
    {
     "data": {
      "text/html": [
       "<div>\n",
       "<style scoped>\n",
       "    .dataframe tbody tr th:only-of-type {\n",
       "        vertical-align: middle;\n",
       "    }\n",
       "\n",
       "    .dataframe tbody tr th {\n",
       "        vertical-align: top;\n",
       "    }\n",
       "\n",
       "    .dataframe thead th {\n",
       "        text-align: right;\n",
       "    }\n",
       "</style>\n",
       "<table border=\"1\" class=\"dataframe\">\n",
       "  <thead>\n",
       "    <tr style=\"text-align: right;\">\n",
       "      <th></th>\n",
       "      <th>sample</th>\n",
       "      <th>x1</th>\n",
       "      <th>x2</th>\n",
       "      <th>x3</th>\n",
       "      <th>x4</th>\n",
       "    </tr>\n",
       "  </thead>\n",
       "  <tbody>\n",
       "    <tr>\n",
       "      <th>59268</th>\n",
       "      <td>0</td>\n",
       "      <td>0.013458</td>\n",
       "      <td>0.614273</td>\n",
       "      <td>0.336517</td>\n",
       "      <td>0.331375</td>\n",
       "    </tr>\n",
       "    <tr>\n",
       "      <th>59269</th>\n",
       "      <td>1</td>\n",
       "      <td>0.012787</td>\n",
       "      <td>0.613861</td>\n",
       "      <td>0.336182</td>\n",
       "      <td>0.330978</td>\n",
       "    </tr>\n",
       "    <tr>\n",
       "      <th>59270</th>\n",
       "      <td>2</td>\n",
       "      <td>0.012802</td>\n",
       "      <td>0.613602</td>\n",
       "      <td>0.335800</td>\n",
       "      <td>0.330353</td>\n",
       "    </tr>\n",
       "    <tr>\n",
       "      <th>59271</th>\n",
       "      <td>3</td>\n",
       "      <td>0.012131</td>\n",
       "      <td>0.613068</td>\n",
       "      <td>0.335617</td>\n",
       "      <td>0.330093</td>\n",
       "    </tr>\n",
       "    <tr>\n",
       "      <th>59272</th>\n",
       "      <td>4</td>\n",
       "      <td>0.012009</td>\n",
       "      <td>0.612137</td>\n",
       "      <td>0.334808</td>\n",
       "      <td>0.329590</td>\n",
       "    </tr>\n",
       "  </tbody>\n",
       "</table>\n",
       "</div>"
      ],
      "text/plain": [
       "       sample        x1        x2        x3        x4\n",
       "59268       0  0.013458  0.614273  0.336517  0.331375\n",
       "59269       1  0.012787  0.613861  0.336182  0.330978\n",
       "59270       2  0.012802  0.613602  0.335800  0.330353\n",
       "59271       3  0.012131  0.613068  0.335617  0.330093\n",
       "59272       4  0.012009  0.612137  0.334808  0.329590"
      ]
     },
     "execution_count": 224,
     "metadata": {},
     "output_type": "execute_result"
    }
   ],
   "source": [
    "#offset data and sync\n",
    "dfRxCorrected=dfRx.iloc[diff:].copy()\n",
    "dfRxCorrected['sample']=dfRxCorrected['sample']-diff # offset sample idx\n",
    "syncRxCorrected=syncRx.copy()\n",
    "syncRxCorrected['sample']=syncRxCorrected['sample']-diff\n",
    "dfRxCorrected.head()"
   ]
  },
  {
   "cell_type": "code",
   "execution_count": 226,
   "id": "699304f7",
   "metadata": {},
   "outputs": [
    {
     "data": {
      "image/png": "[encoded data removed]",
      "text/plain": [
       "<Figure size 432x288 with 2 Axes>"
      ]
     },
     "metadata": {
      "needs_background": "light"
     },
     "output_type": "display_data"
    }
   ],
   "source": [
    "#plot again\n",
    "fig, ax = plt.subplots(2, 1)\n",
    "fig.tight_layout()\n",
    "\n",
    "\n",
    "dfRxCorrected.plot(x=\"sample\", y=[\"x1\", \"x2\"], ax=ax[0], sharex=ax[0])\n",
    "ax[0].set_title('RX')\n",
    "ax[0].set_xlim([0,max([*dfRx[\"sample\"],*dfTx[\"sample\"]])])\n",
    "ax[0].vlines(x=syncRxCorrected[\"sample\"], ymin=0, ymax=0.5, colors='red')\n",
    "\n",
    "dfTx.plot(x=\"sample\", y=[\"x1\", \"x2\"], ax=ax[1])\n",
    "ax[1].set_title('TX')\n",
    "ax[1].set_xlim([0,max([*dfRx[\"sample\"],*dfTx[\"sample\"]])])\n",
    "ax[1].vlines(x=syncTx[\"sample\"], ymin=0, ymax=0.5, colors='red')\n",
    "\n",
    "\n",
    "plt.show()\n"
   ]
  }
 ],
 "metadata": {
  "kernelspec": {
   "display_name": "bela_sync_data",
   "language": "python",
   "name": "bela_sync_data"
  },
  "language_info": {
   "codemirror_mode": {
    "name": "ipython",
    "version": 3
   },
   "file_extension": ".py",
   "mimetype": "text/x-python",
   "name": "python",
   "nbconvert_exporter": "python",
   "pygments_lexer": "ipython3",
   "version": "3.9.12"
  }
 },
 "nbformat": 4,
 "nbformat_minor": 5
}
