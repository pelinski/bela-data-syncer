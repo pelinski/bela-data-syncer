{
 "cells": [
  {
   "cell_type": "code",
   "execution_count": 1,
   "id": "9781233d",
   "metadata": {},
   "outputs": [],
   "source": [
    "import pandas as pd\n",
    "import numpy as np\n",
    "import matplotlib.pyplot as plt"
   ]
  },
  {
   "cell_type": "code",
   "execution_count": 228,
   "id": "3190d3b8",
   "metadata": {},
   "outputs": [
    {
     "data": {
      "text/html": [
       "<div>\n",
       "<style scoped>\n",
       "    .dataframe tbody tr th:only-of-type {\n",
       "        vertical-align: middle;\n",
       "    }\n",
       "\n",
       "    .dataframe tbody tr th {\n",
       "        vertical-align: top;\n",
       "    }\n",
       "\n",
       "    .dataframe thead th {\n",
       "        text-align: right;\n",
       "    }\n",
       "</style>\n",
       "<table border=\"1\" class=\"dataframe\">\n",
       "  <thead>\n",
       "    <tr style=\"text-align: right;\">\n",
       "      <th></th>\n",
       "      <th>t</th>\n",
       "      <th>x1</th>\n",
       "      <th>x2</th>\n",
       "      <th>x3</th>\n",
       "      <th>x4</th>\n",
       "    </tr>\n",
       "  </thead>\n",
       "  <tbody>\n",
       "    <tr>\n",
       "      <th>0</th>\n",
       "      <td>0</td>\n",
       "      <td>0.004288</td>\n",
       "      <td>0.809448</td>\n",
       "      <td>0.365326</td>\n",
       "      <td>0.364853</td>\n",
       "    </tr>\n",
       "    <tr>\n",
       "      <th>1</th>\n",
       "      <td>1</td>\n",
       "      <td>0.004486</td>\n",
       "      <td>0.808304</td>\n",
       "      <td>0.365524</td>\n",
       "      <td>0.364883</td>\n",
       "    </tr>\n",
       "    <tr>\n",
       "      <th>2</th>\n",
       "      <td>2</td>\n",
       "      <td>0.004288</td>\n",
       "      <td>0.809250</td>\n",
       "      <td>0.365356</td>\n",
       "      <td>0.364822</td>\n",
       "    </tr>\n",
       "    <tr>\n",
       "      <th>3</th>\n",
       "      <td>3</td>\n",
       "      <td>0.004517</td>\n",
       "      <td>0.808914</td>\n",
       "      <td>0.365570</td>\n",
       "      <td>0.364944</td>\n",
       "    </tr>\n",
       "    <tr>\n",
       "      <th>4</th>\n",
       "      <td>4</td>\n",
       "      <td>0.004501</td>\n",
       "      <td>0.809204</td>\n",
       "      <td>0.365784</td>\n",
       "      <td>0.364853</td>\n",
       "    </tr>\n",
       "  </tbody>\n",
       "</table>\n",
       "</div>"
      ],
      "text/plain": [
       "   t        x1        x2        x3        x4\n",
       "0  0  0.004288  0.809448  0.365326  0.364853\n",
       "1  1  0.004486  0.808304  0.365524  0.364883\n",
       "2  2  0.004288  0.809250  0.365356  0.364822\n",
       "3  3  0.004517  0.808914  0.365570  0.364944\n",
       "4  4  0.004501  0.809204  0.365784  0.364853"
      ]
     },
     "execution_count": 228,
     "metadata": {},
     "output_type": "execute_result"
    }
   ],
   "source": [
    "# Create a dtype with the binary data format and the desired column names\n",
    "dt = np.dtype([('t', 'f4'),('x1', 'f4'), ('x2', 'f4'), ('x3', 'f4'), ('x4', 'f4')])\n",
    "dataTx = np.fromfile(\"TX0-data3.log\", dtype=dt)\n",
    "dataRx = np.fromfile(\"RX1-data3.log\", dtype=dt)\n",
    "\n",
    "\n",
    "dfTx = pd.DataFrame(dataTx)\n",
    "dfRx = pd.DataFrame(dataRx)\n",
    "\n",
    "#dfRx = pd.DataFrame(dataRx, columns=[\"sample\", \"rx1\", \"rx2\", \"rx3\", \"rx4\"])\n",
    "#dfTx = pd.DataFrame(dataTx, columns=[\"sample\", \"tx1\", \"tx2\", \"tx3\", \"tx4\"])\n",
    "\n",
    "dfTx[\"t\"]=dfTx[\"t\"].astype(int) # convert to int\n",
    "dfRx[\"t\"]=dfRx[\"t\"].astype(int) # convert to int\n",
    "\n",
    "\n",
    "dfTx.head()"
   ]
  },
  {
   "cell_type": "code",
   "execution_count": 3,
   "id": "aafd9e40",
   "metadata": {},
   "outputs": [
    {
     "data": {
      "text/html": [
       "<div>\n",
       "<style scoped>\n",
       "    .dataframe tbody tr th:only-of-type {\n",
       "        vertical-align: middle;\n",
       "    }\n",
       "\n",
       "    .dataframe tbody tr th {\n",
       "        vertical-align: top;\n",
       "    }\n",
       "\n",
       "    .dataframe thead th {\n",
       "        text-align: right;\n",
       "    }\n",
       "</style>\n",
       "<table border=\"1\" class=\"dataframe\">\n",
       "  <thead>\n",
       "    <tr style=\"text-align: right;\">\n",
       "      <th></th>\n",
       "      <th>t</th>\n",
       "      <th>msg</th>\n",
       "    </tr>\n",
       "  </thead>\n",
       "  <tbody>\n",
       "    <tr>\n",
       "      <th>0</th>\n",
       "      <td>108526</td>\n",
       "      <td>0</td>\n",
       "    </tr>\n",
       "    <tr>\n",
       "      <th>1</th>\n",
       "      <td>114046</td>\n",
       "      <td>1</td>\n",
       "    </tr>\n",
       "    <tr>\n",
       "      <th>2</th>\n",
       "      <td>119567</td>\n",
       "      <td>0</td>\n",
       "    </tr>\n",
       "    <tr>\n",
       "      <th>3</th>\n",
       "      <td>125087</td>\n",
       "      <td>1</td>\n",
       "    </tr>\n",
       "    <tr>\n",
       "      <th>4</th>\n",
       "      <td>130607</td>\n",
       "      <td>0</td>\n",
       "    </tr>\n",
       "  </tbody>\n",
       "</table>\n",
       "</div>"
      ],
      "text/plain": [
       "        t  msg\n",
       "0  108526    0\n",
       "1  114046    1\n",
       "2  119567    0\n",
       "3  125087    1\n",
       "4  130607    0"
      ]
     },
     "execution_count": 3,
     "metadata": {},
     "output_type": "execute_result"
    }
   ],
   "source": [
    "dt = np.dtype([('t', 'f4'), ('msg', 'f4')])\n",
    "syncDataRx= np.fromfile('RX1-sync3.log', dtype=dt)\n",
    "syncDataTx= np.fromfile('TX0-sync3.log', dtype=dt)\n",
    "\n",
    "syncRx = pd.DataFrame(syncDataRx,columns=syncDataRx.dtype.names).astype(int)\n",
    "syncTx = pd.DataFrame(syncDataTx,columns=syncDataTx.dtype.names).astype(int)\n",
    "\n",
    "syncRx.head()\n"
   ]
  },
  {
   "cell_type": "code",
   "execution_count": 4,
   "id": "ee7b464a",
   "metadata": {},
   "outputs": [
    {
     "data": {
      "image/png": "[encoded data removed]",
      "text/plain": [
       "<Figure size 432x288 with 2 Axes>"
      ]
     },
     "metadata": {
      "needs_background": "light"
     },
     "output_type": "display_data"
    }
   ],
   "source": [
    "fig, ax = plt.subplots(2, 1)\n",
    "fig.tight_layout()\n",
    "\n",
    "dfTx.plot(x=\"t\", y=[\"x1\", \"x2\"], ax=ax[0] , sharex=ax[1])\n",
    "ax[0].set_title('TX')\n",
    "ax[0].set_xlim([0,max([*dfRx[\"t\"],*dfTx[\"t\"]])])\n",
    "ax[0].vlines(x=syncTx[\"t\"], ymin=0, ymax=0.5, colors='red')\n",
    "\n",
    "dfRx.plot(x=\"t\", y=[\"x1\", \"x2\"], ax=ax[1])\n",
    "ax[1].set_title('RX')\n",
    "ax[1].set_xlim([0,max([*dfRx[\"t\"],*dfTx[\"t\"]])])\n",
    "ax[1].vlines(x=syncRx[\"t\"], ymin=0, ymax=0.5, colors='red')\n",
    "\n",
    "plt.show()\n"
   ]
  },
  {
   "cell_type": "code",
   "execution_count": 5,
   "id": "ba886e88",
   "metadata": {},
   "outputs": [
    {
     "name": "stdout",
     "output_type": "stream",
     "text": [
      "lost messages? \n",
      "[]\n",
      "equal number of messages sent as received?\n",
      "True\n"
     ]
    }
   ],
   "source": [
    "def check_if_lost_messages(df): # not very useful\n",
    "    messages=df['msg'].tolist();\n",
    "    sample=df['t'].tolist();\n",
    "\n",
    "    lost_messages_samples=[];\n",
    "    for i in range (1,len(messages)):\n",
    "        if messages[i] == 0:\n",
    "            continue\n",
    "        if messages[i] != messages[i-1]+1:\n",
    "            lost_messages_samples.append[samples[i]]\n",
    "\n",
    "    return lost_messages_samples\n",
    "\n",
    "# check if received messages don't follow order from 0 to 7\n",
    "# ie check if there's skipped messages\n",
    "print(\"lost messages? \")\n",
    "print(check_if_lost_messages(syncRx))\n",
    "\n",
    "print(\"equal number of messages sent as received?\")\n",
    "print(len(syncRx['msg'])==len(syncTx['msg']))"
   ]
  },
  {
   "cell_type": "code",
   "execution_count": 219,
   "id": "0dcbac75",
   "metadata": {},
   "outputs": [],
   "source": [
    "#TODO write test for this\n",
    "\n",
    "# first message received in rx is the same as first message transmitted\n",
    "# diff = syncRx['t'][0]-syncTx['t'][0] # number of samples to take away from rx\n",
    "\n",
    "# both tx and rx start at the first message and end at the last message\n",
    "dfRxCorrected=dfRx.iloc[syncRx['t'][0]:syncRx['t'].iloc[-1]].copy()\n",
    "dfTxCorrected=dfTx.iloc[syncTx['t'][0]:syncTx['t'].iloc[-1]].copy()\n",
    "\n",
    "\n",
    "# dClock is the interval in frames at which the TX sends a clock signal \n",
    "dClock = 689 * 8 + 8 # equals gCommBlockSpan * context->analogFrames + context->analogFrames\n",
    "\n",
    "diffTx = []\n",
    "for i in range(len(syncTx)-1):\n",
    "    diffTx.append((syncTx['t'][i+1] - syncTx['t'][i])-dClock)  # the indexes in syncTx refer to dfTx (corrected has altered indexes)\n",
    "\n",
    "# check if messages are received at the same interval\n",
    "for i in range(len(syncRx)-1): # iterate over received blocks\n",
    "    \n",
    "    diff = (syncRx['t'][i+1] - syncRx['t'][i])-dClock\n",
    "\n",
    "    \n",
    "    if diff==0: # if spacing between received blocks equals dClock, everything is fine\n",
    "        continue\n",
    "    \n",
    "    if diff>0: # remove extra samples . if larger than one block, check if twice the block +-2 samples\n",
    "        \n",
    "        if diff>dClock: # if diff larger than dClock, normalise difference \n",
    "            m = np.floor(diff/dClock)\n",
    "            diff = diff-m*dClock\n",
    "            if diff == 0: # if difference is equal to n blocks, continue \n",
    "                continue\n",
    "    \n",
    "        for j in range(diff): # remove n extra samples\n",
    "            dfRxCorrected = dfRxCorrected.drop(index=(dfRxCorrected.loc[dfRx['t'] == syncRx['t'][i+1]].index-j)[0])\n",
    "\n",
    "        # check if number of samples is corrected\n",
    "        #print(dfRxCorrected.loc[dfRx['t'] == syncRx['t'][i+1]].index- dfRxCorrected.loc[dfRx['t'] == syncRx['t'][i]].index) \n",
    "    \n",
    "\n",
    "    if diff<0: \n",
    "                \n",
    "        # interpolation\n",
    "        \n",
    "        t2 = syncRx['t'][i+1] + 1# end of current +1\n",
    "        t1 = syncRx['t'][i+1] # end of current\n",
    "        x2 = dfRxCorrected.loc[t2,'x1':'x4'].values\n",
    "        x1 = dfRxCorrected.loc[t1,'x1':'x4'].values \n",
    "        \n",
    "        m = (x2-x1)/(t2-t1)  # point-slope equation -> y = m(x-x0) + y0\n",
    "        \n",
    "        print(len(dfRxCorrected))\n",
    "        dfTop = dfRxCorrected.loc[:t1+1].copy() \n",
    "        for i in range(1,abs(diff)+1):\n",
    "            t = np.round(t1 + i*(t2-t1)/(abs(diff)+1),7)\n",
    "            x = np.round(m*(t-t1) + x1,7) \n",
    "            dfTop.loc[t1+i] = [t,*x]            # now index is not equal to t anymore and t is irrelevant\n",
    "            \n",
    "        dfRxCorrected = pd.concat([dfTop,dfRxCorrected.loc[t2:]]) \n",
    "        \n",
    "dfRxCorrected = dfRxCorrected.drop('t', axis=1).reset_index(drop=True)\n",
    "dfTxCorrected = dfTxCorrected.drop('t', axis=1).reset_index(drop=True)"
   ]
  },
  {
   "cell_type": "code",
   "execution_count": 227,
   "id": "d639c110",
   "metadata": {},
   "outputs": [
    {
     "data": {
      "text/plain": [
       "True"
      ]
     },
     "execution_count": 227,
     "metadata": {},
     "output_type": "execute_result"
    }
   ],
   "source": [
    "len(dfRxCorrected)==len(dfTxCorrected)"
   ]
  },
  {
   "cell_type": "code",
   "execution_count": 224,
   "id": "699304f7",
   "metadata": {},
   "outputs": [
    {
     "data": {
      "image/png": "[encoded data removed]",
      "text/plain": [
       "<Figure size 432x288 with 2 Axes>"
      ]
     },
     "metadata": {
      "needs_background": "light"
     },
     "output_type": "display_data"
    }
   ],
   "source": [
    "#plot again\n",
    "fig, ax = plt.subplots(2, 1)\n",
    "fig.tight_layout()\n",
    "\n",
    "dfTxCorrected.plot(use_index=True, y=[\"x1\", \"x2\"], ax=ax[0],sharex=ax[1])\n",
    "ax[0].set_title('TX')\n",
    "#ax[0].vlines(x=syncTx[\"t\"], ymin=0, ymax=0.5, colors='red')\n",
    "\n",
    "dfRxCorrected.plot(use_index=True, y=[\"x1\", \"x2\"], ax=ax[1])\n",
    "ax[1].set_title('RX')\n",
    "#ax[1].vlines(x=syncRx[\"t\"], ymin=0, ymax=0.5, colors='red')\n",
    "\n",
    "\n",
    "plt.show()\n"
   ]
  },
  {
   "cell_type": "code",
   "execution_count": null,
   "id": "15d48471",
   "metadata": {},
   "outputs": [],
   "source": []
  }
 ],
 "metadata": {
  "kernelspec": {
   "display_name": "Python 3.9.5 64-bit",
   "language": "python",
   "name": "python3"
  },
  "language_info": {
   "codemirror_mode": {
    "name": "ipython",
    "version": 3
   },
   "file_extension": ".py",
   "mimetype": "text/x-python",
   "name": "python",
   "nbconvert_exporter": "python",
   "pygments_lexer": "ipython3",
   "version": "3.9.5"
  },
  "vscode": {
   "interpreter": {
    "hash": "f9f85f796d01129d0dd105a088854619f454435301f6ffec2fea96ecbd9be4ac"
   }
  }
 },
 "nbformat": 4,
 "nbformat_minor": 5
}
